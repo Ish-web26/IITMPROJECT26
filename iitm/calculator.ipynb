{
 "cells": [
  {
   "cell_type": "code",
   "execution_count": null,
   "id": "67ff3f38-bdb6-4a02-8146-1821ec943d9e",
   "metadata": {},
   "outputs": [],
   "source": [
    "no1 = float(input(\"enter first number:\"))\n",
    "no2 = float(input(\"enter second number:\"))\n",
    "operation = input(\"choose operation(+, -, * , /)\")\n",
    "if operation == '+':\n",
    "  print(\"sum is:\", no1 + no2)\n",
    "elif operation == '-':\n",
    "  print(\"difference is:\" , no1 - no2)\n",
    "elif operation == '*':\n",
    "  print(\"product is: \" ,no1 * no2)\n",
    "elif operation == '/':\n",
    "   if no2 != 0:\n",
    "    print(\"quotient is\" ,no1 / no2)\n",
    "   else:\n",
    "    print(result = \"error! division by zero\")\n",
    "else:\n",
    "  print(\"result = invalid\")"
   ]
  }
 ],
 "metadata": {
  "kernelspec": {
   "display_name": "Python [conda env:base] *",
   "language": "python",
   "name": "conda-base-py"
  },
  "language_info": {
   "codemirror_mode": {
    "name": "ipython",
    "version": 3
   },
   "file_extension": ".py",
   "mimetype": "text/x-python",
   "name": "python",
   "nbconvert_exporter": "python",
   "pygments_lexer": "ipython3",
   "version": "3.12.7"
  }
 },
 "nbformat": 4,
 "nbformat_minor": 5
}
