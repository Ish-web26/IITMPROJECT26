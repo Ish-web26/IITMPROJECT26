{
 "cells": [
  {
   "cell_type": "code",
   "execution_count": null,
   "id": "4ad7767f-6187-4bef-a44b-6d3a1bad47d5",
   "metadata": {},
   "outputs": [
    {
     "name": "stdin",
     "output_type": "stream",
     "text": [
      "username: ish\n",
      "password: ishh26\n"
     ]
    }
   ],
   "source": [
    "sername = \"ish\"\n",
    "password = \"ishh26\" \n",
    "for i in range(3):\n",
    "    user = input(\"username:\")\n",
    "    pwd = input(\"password:\")\n",
    "if user == username and pwd == password:\n",
    "        print(\"login successful\")\n",
    "        break\n",
    "else:\n",
    "        print(\"wrong username or pswd\")\n",
    "if i==2:\n",
    "    print(\"3 attempts finished\")"
   ]
  },
  {
   "cell_type": "code",
   "execution_count": null,
   "id": "3ad230cd-d4d1-45c3-ae13-f9f0034b29c0",
   "metadata": {},
   "outputs": [],
   "source": []
  }
 ],
 "metadata": {
  "kernelspec": {
   "display_name": "Python [conda env:base] *",
   "language": "python",
   "name": "conda-base-py"
  },
  "language_info": {
   "codemirror_mode": {
    "name": "ipython",
    "version": 3
   },
   "file_extension": ".py",
   "mimetype": "text/x-python",
   "name": "python",
   "nbconvert_exporter": "python",
   "pygments_lexer": "ipython3",
   "version": "3.12.7"
  }
 },
 "nbformat": 4,
 "nbformat_minor": 5
}
