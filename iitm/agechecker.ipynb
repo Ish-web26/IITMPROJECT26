{
 "cells": [
  {
   "cell_type": "code",
   "execution_count": null,
   "id": "58e83771-cf77-4c41-9a28-a2bd88d7882a",
   "metadata": {},
   "outputs": [],
   "source": [
    "age = int(input(\"enter your age:\"))\n",
    "if age>= 18:\n",
    "  print(\"you are eligible to vote\")\n",
    "else:\n",
    "  print(\"you are not eligible to vote\")\n",
    "if age>= 21:\n",
    "  print(\"you are eligible for driving license\")\n",
    "else:\n",
    "  print(\"you are not eligible for driving license\")\n",
    "if age>= 60:\n",
    "  print(\"you are senior citizen\")"
   ]
  }
 ],
 "metadata": {
  "kernelspec": {
   "display_name": "Python [conda env:base] *",
   "language": "python",
   "name": "conda-base-py"
  },
  "language_info": {
   "codemirror_mode": {
    "name": "ipython",
    "version": 3
   },
   "file_extension": ".py",
   "mimetype": "text/x-python",
   "name": "python",
   "nbconvert_exporter": "python",
   "pygments_lexer": "ipython3",
   "version": "3.12.7"
  }
 },
 "nbformat": 4,
 "nbformat_minor": 5
}
