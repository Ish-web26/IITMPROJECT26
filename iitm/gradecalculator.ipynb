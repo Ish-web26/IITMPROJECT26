{
 "cells": [
  {
   "cell_type": "code",
   "execution_count": 2,
   "id": "f957cb9c-6b1f-4efd-aa60-5450b7d68bf9",
   "metadata": {},
   "outputs": [
    {
     "name": "stdin",
     "output_type": "stream",
     "text": [
      "enter your marks(out of 100): 80\n"
     ]
    },
    {
     "name": "stdout",
     "output_type": "stream",
     "text": [
      "grade = 'B'\n"
     ]
    }
   ],
   "source": [
    "marks =  float(input(\"enter your marks(out of 100):\"))\n",
    "if marks>= 90:\n",
    "  print(\"grade = 'A'\")\n",
    "elif marks >= 80:\n",
    " print(\"grade = 'B'\")\n",
    "elif marks >= 70:\n",
    " print(\"grade = 'C'\")\n",
    "elif marks >= 60:\n",
    " print(\"grade = 'D'\")\n",
    "elif marks >= 50:\n",
    " print(\"grade = 'E'\")\n",
    "else:\n",
    "  print(\"grade = 'F'\")"
   ]
  },
  {
   "cell_type": "code",
   "execution_count": null,
   "id": "9953293f-fd68-4b29-83e5-431195e12de4",
   "metadata": {},
   "outputs": [],
   "source": []
  }
 ],
 "metadata": {
  "kernelspec": {
   "display_name": "Python [conda env:base] *",
   "language": "python",
   "name": "conda-base-py"
  },
  "language_info": {
   "codemirror_mode": {
    "name": "ipython",
    "version": 3
   },
   "file_extension": ".py",
   "mimetype": "text/x-python",
   "name": "python",
   "nbconvert_exporter": "python",
   "pygments_lexer": "ipython3",
   "version": "3.12.7"
  }
 },
 "nbformat": 4,
 "nbformat_minor": 5
}
